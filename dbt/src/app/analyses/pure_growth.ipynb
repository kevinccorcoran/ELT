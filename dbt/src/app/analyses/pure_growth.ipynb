{
 "cells": [
  {
   "cell_type": "code",
   "execution_count": 1,
   "id": "8d195342-3b44-4f82-ad68-c87833975640",
   "metadata": {},
   "outputs": [
    {
     "name": "stdout",
     "output_type": "stream",
     "text": [
      "Connected to the database successfully\n"
     ]
    }
   ],
   "source": [
    "import psycopg2\n",
    "\n",
    "try:\n",
    "    conn = psycopg2.connect(\n",
    "        dbname='DEV',\n",
    "        user='postgres',\n",
    "        password='1234',\n",
    "        host='localhost',\n",
    "        port='9999' # default is usually 5432\n",
    "    )\n",
    "    print(\"Connected to the database successfully\")\n",
    "except Exception as e:\n",
    "    print(\"Unable to connect to the database:\")\n",
    "    print(e)\n"
   ]
  },
  {
   "cell_type": "code",
   "execution_count": 2,
   "id": "b08677eb-09da-4974-987e-ee2d5c443cf1",
   "metadata": {},
   "outputs": [
    {
     "name": "stdout",
     "output_type": "stream",
     "text": [
      "('HD', 15514, 29057)\n",
      "('AMZN', 9800, 28690)\n",
      "('MSFT', 13881, 22230)\n",
      "('UNH', 14393, 10641)\n",
      "('WMT', 18829, 6583)\n",
      "('MA', 6503, 3719)\n",
      "('AAPL', 15798, 3313)\n",
      "('DIS', 22717, 1618)\n",
      "('GOOGL', 7147, 1411)\n",
      "('JNJ', 22717, 922)\n",
      "('V', 5839, 537)\n",
      "('BA', 22717, 204)\n",
      "('INTC', 16068, 165)\n",
      "('PG', 22717, 58)\n",
      "('XOM', 22717, -3)\n",
      "('JPM', 16068, -25)\n",
      "('CVX', 22717, -35)\n",
      "('VZ', 14724, -87)\n"
     ]
    }
   ],
   "source": [
    "# Create a cursor object\n",
    "cur = conn.cursor()\n",
    "\n",
    "# Execute a query\n",
    "cur.execute('SELECT * FROM cdm.pure_growth;')\n",
    "\n",
    "# Fetch the results\n",
    "rows = cur.fetchall()\n",
    "\n",
    "for row in rows:\n",
    "    print(row)\n",
    "\n",
    "# Close the cursor and connection\n",
    "cur.close()\n",
    "conn.close()\n"
   ]
  },
  {
   "cell_type": "code",
   "execution_count": null,
   "id": "f2b85481-22b6-455d-80ee-3b31a81b36f2",
   "metadata": {},
   "outputs": [],
   "source": []
  },
  {
   "cell_type": "code",
   "execution_count": null,
   "id": "44e18dd5-dcac-411c-85f5-9845e51e126b",
   "metadata": {},
   "outputs": [],
   "source": []
  },
  {
   "cell_type": "code",
   "execution_count": null,
   "id": "fee90b78-a7e0-4e7b-9175-73ccbc5aa4c0",
   "metadata": {},
   "outputs": [],
   "source": []
  }
 ],
 "metadata": {
  "kernelspec": {
   "display_name": "Python 3",
   "language": "python",
   "name": "python3"
  },
  "language_info": {
   "codemirror_mode": {
    "name": "ipython",
    "version": 3
   },
   "file_extension": ".py",
   "mimetype": "text/x-python",
   "name": "python",
   "nbconvert_exporter": "python",
   "pygments_lexer": "ipython3",
   "version": "3.11.6 (main, Jan 19 2024, 10:49:57) [Clang 14.0.3 (clang-1403.0.22.14.1)]"
  },
  "vscode": {
   "interpreter": {
    "hash": "c03f357bc7d4a14cdd148b42de0a4e93da428260e9280abf1921614891224fee"
   }
  }
 },
 "nbformat": 4,
 "nbformat_minor": 5
}
